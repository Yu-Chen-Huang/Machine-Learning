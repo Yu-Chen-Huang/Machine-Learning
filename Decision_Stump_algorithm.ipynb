{
 "cells": [
  {
   "cell_type": "markdown",
   "metadata": {},
   "source": [
    "# Decision Stump algorithm\n"
   ]
  },
  {
   "cell_type": "markdown",
   "metadata": {},
   "source": [
    "Decision Stump algorithm也是一種很基本的演算法，基本上就是一維的Perceptron，這在之後寫Decision Tree和AdaBoost時都會用到。\n",
    "\n",
    "$$h_{s,i,\\theta} = s* sign(X_{i}-\\theta)$$\n",
    "\n",
    "## 我們這裡一樣先load data."
   ]
  },
  {
   "cell_type": "code",
   "execution_count": 1,
   "metadata": {},
   "outputs": [],
   "source": [
    "import numpy as np\n",
    "import matplotlib.pyplot as plt\n",
    "\n",
    "X_train = np.genfromtxt(\"/Users/huangyuchen/Desktop/ML_NTU/hw2_train.dat.txt\")\n",
    "X_test = np.genfromtxt(\"/Users/huangyuchen/Desktop/ML_NTU/hw2_test.dat.txt\")"
   ]
  },
  {
   "cell_type": "code",
   "execution_count": 2,
   "metadata": {},
   "outputs": [
    {
     "data": {
      "text/plain": [
       "((100, 10), (1000, 10))"
      ]
     },
     "execution_count": 2,
     "metadata": {},
     "output_type": "execute_result"
    }
   ],
   "source": [
    "X_train.shape,X_test.shape"
   ]
  },
  {
   "cell_type": "markdown",
   "metadata": {},
   "source": [
    "### 因為要做Decision Stump，所以要先檢查一下train/test data的維度，不加上label的話總共是9維。因為data是multidimesions，如果要應用decision stump的話，我們要將九個維度分別做desicion stump，找到能夠給出Ein最低的維度以及$\\theta$。"
   ]
  },
  {
   "cell_type": "code",
   "execution_count": 31,
   "metadata": {},
   "outputs": [],
   "source": [
    "def the(x):\n",
    "    ## Chosing theta by finding the midpoints between two of all datapoint.\n",
    "    theta = (x[1:] + x[:-1]) / 2\n",
    "     ## Adding theta that sign all data to -1.\n",
    "    theta = np.r_[[x[0] - 0.1], theta]\n",
    "    ## Adding theta that sign all data to +1\n",
    "    theta = np.r_[theta, [x[-1] + 0.1]]\n",
    "    theta = np.reshape(theta,(-1, 1))\n",
    "    return theta"
   ]
  },
  {
   "cell_type": "markdown",
   "metadata": {},
   "source": [
    "### 至於$\\theta$要怎麼決定，因為任一個維度有100個點，因此將所有點由大排到小，取點與點的中間點當作我們的Theta candidates，再加上將所有點sign成+1和-1的$\\theta$，總共有101個$\\theta$的選擇，再加上九個不同的維度，在這之中選出Ein最小的維度與$\\theta$，再由Ein決定的維度與$\\theta$來計算Eout。"
   ]
  },
  {
   "cell_type": "code",
   "execution_count": 33,
   "metadata": {},
   "outputs": [
    {
     "name": "stdout",
     "output_type": "stream",
     "text": [
      "Ein: 0.25 s: -1 Theta: 1.6175000000000002 Eout: 0.355\n"
     ]
    }
   ],
   "source": [
    "def decision_stump(Xtrain,Xtest):\n",
    "    m,n = Xtrain.shape\n",
    "    ## decision stump contains two directions, one is positive and the other is negative.\n",
    "    o = [1,-1]\n",
    "    error = 1\n",
    "    y = np.reshape(Xtrain[:,-1],(-1,1))\n",
    "    y_test = np.reshape(Xtest[:,-1],(-1,1))\n",
    "    for i in range(n-1):\n",
    "        for s in o:\n",
    "            X = np.reshape(Xtrain[:,i],(-1,1))\n",
    "            X_s = np.sort(X,axis = 0)            \n",
    "            Theta = the(X_s)\n",
    "            Theta = np.tile(Theta.T,(m,1))\n",
    "            result = np.mean((s*np.sign(X - Theta)!=y), axis = 0)\n",
    "            idx = np.argmin(result)\n",
    "            if result[idx] < error:\n",
    "                error = result[idx]\n",
    "                theta = Theta[0,idx]\n",
    "                dim = i\n",
    "                s1 = s              \n",
    "    X_test = np.reshape(Xtest[:,dim],(-1,1))\n",
    "    error_test = np.mean((s*np.sign(X_test - theta)!=y_test))\n",
    "    return error,s1,theta , error_test\n",
    "        \n",
    "error,s1,theta,error_test = decision_stump(X_train,X_test)\n",
    "print(\"Ein:\",error,\"s:\",s1,\"Theta:\",theta,\"Eout:\",error_test)"
   ]
  }
 ],
 "metadata": {
  "kernelspec": {
   "display_name": "Python 3",
   "language": "python",
   "name": "python3"
  },
  "language_info": {
   "codemirror_mode": {
    "name": "ipython",
    "version": 3
   },
   "file_extension": ".py",
   "mimetype": "text/x-python",
   "name": "python",
   "nbconvert_exporter": "python",
   "pygments_lexer": "ipython3",
   "version": "3.7.6"
  }
 },
 "nbformat": 4,
 "nbformat_minor": 4
}
