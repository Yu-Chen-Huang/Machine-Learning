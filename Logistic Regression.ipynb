{
 "cells": [
  {
   "cell_type": "markdown",
   "metadata": {},
   "source": [
    "# Logistic Regression"
   ]
  },
  {
   "cell_type": "markdown",
   "metadata": {},
   "source": [
    "### 首先，要介紹Logistic Regression之前，要先介紹一個logistic function:Sigmoid function，和sign function不同的是，Logistic Regression用sigmoid function來approximate target func. .\n",
    "\n",
    "###  Sigmoid(x):\n",
    "\n",
    "$$\\theta(s) = 1/(1+e^{-s}) = 1/(1+e^{-w^{T}X}) $$"
   ]
  },
  {
   "cell_type": "code",
   "execution_count": 1,
   "metadata": {},
   "outputs": [
    {
     "data": {
      "image/png": "[encoded data removed]",
      "text/plain": [
       "<Figure size 432x288 with 1 Axes>"
      ]
     },
     "metadata": {
      "needs_background": "light"
     },
     "output_type": "display_data"
    }
   ],
   "source": [
    "import matplotlib.pyplot as plt\n",
    "import numpy as np\n",
    "x = np.arange(-10,10)\n",
    "y = np.arange(1, -1, 20)\n",
    "m = y.size\n",
    "w = np.linspace(-10,10, 1000)\n",
    "yval = []\n",
    "for i in w:\n",
    "    y_hat = 1/(1+np.exp(-i))  \n",
    "    yval.append(y_hat)   \n",
    "fig = plt.figure()\n",
    "ax = plt.axes()\n",
    "ax.scatter(w, yval)\n",
    "plt.title('Sigmoid func.')\n",
    "plt.ylabel(\" $theta$ \")\n",
    "plt.xlabel(\"s\")\n",
    "plt.show()"
   ]
  },
  {
   "cell_type": "markdown",
   "metadata": {},
   "source": [
    "### 經過likelihood的推導，我們可以得出Error func:\n",
    "\n",
    "$$E_{in}(w)=(1/N)\\Sigma_{n=1}^{N}ln(1+e^{-y_{n}w^{T}X_{n}})$$\n",
    "\n",
    "### 有了Error func.，我們就可以用gradient descent去更新我們的權重W。核心概念就是對$E_{in}$取$\\bigtriangledown$，會得到Error func. 沿著W方向的變化量，要得到Error func. 最小值就需要滿足$\\bigtriangledown E_{in}(w_{t}) = 0$，將W用$\\bigtriangledown E_{in}(w_{t})$更新，就可以慢慢的將Error func.往最小值的地方更新。\n",
    "\n",
    "$$\\bigtriangledown E_{in}(w_{t}) = (1/N)\\Sigma_{n=1}^{N}\\theta(-y_{n}w_{t}^{T}X_{n})(-y_{n}X_{n}))$$\n",
    "\n",
    "\n",
    "$$w_{t+1} \\leftarrow w_{t}-\\eta\\bigtriangledown E_{in}(w_{t})$$\n",
    "\n",
    "### $\\eta$ 就是所謂的Learning rate，可以決定每次更新走的步長。太小的$\\eta$會讓gradient descent更新的步數太多，增加計算量，但是太大容易讓Error func. 更新時，不小心略過最小值的點。\n",
    "\n",
    "### 所以我們Logistic Regression算法如下："
   ]
  },
  {
   "cell_type": "markdown",
   "metadata": {},
   "source": [
    "### initialize $w_{0}$, for t = 0,1... :\n",
    "\n",
    "* compute: \n",
    "$$\\bigtriangledown E_{in}(w_{t}) = (1/N)\\Sigma_{n=1}^{N}\\theta(-y_{n}w_{t}^{T}X_{n})(-y_{n}X_{n}) $$\n",
    "* update by:\n",
    "$$w_{t+1} \\leftarrow w_{t}-\\eta\\bigtriangledown E_{in}(w_{t})$$\n",
    "\n",
    "...until $\\bigtriangledown E_{in}(w_{t+1})$ = 0 or enough iterations."
   ]
  },
  {
   "cell_type": "markdown",
   "metadata": {},
   "source": [
    "### 現在來實際使用Logistic Regrssion在data上："
   ]
  },
  {
   "cell_type": "code",
   "execution_count": 2,
   "metadata": {},
   "outputs": [
    {
     "name": "stdout",
     "output_type": "stream",
     "text": [
      "Ein:0.198\n",
      " Eout:0.221\n"
     ]
    }
   ],
   "source": [
    "X_train = np.genfromtxt(\"/Users/huangyuchen/Desktop/ML_NTU/hw3_train.dat.txt\")\n",
    "X_test = np.genfromtxt(\"/Users/huangyuchen/Desktop/ML_NTU/hw3_test.dat.txt\")\n",
    "y_train = np.reshape(X_train[:,-1],(-1,1))\n",
    "y_test = np.reshape(X_test[:,-1],(-1,1))\n",
    "\n",
    "eta = 0.01\n",
    "T = 2000\n",
    "\n",
    "def sigmoid(s):\n",
    "    return 1/(np.exp(-s)+1)\n",
    "\n",
    "def gradient(X,y,w):\n",
    "    m,n = X.shape\n",
    "    y = np.reshape(y,(m,1))    \n",
    "    return (1/m)*(-y*X).T.dot(sigmoid(-y*(X.dot(w))))\n",
    "\n",
    "def GradientDescent(X,T):\n",
    "    m,n = X.shape\n",
    "    w = np.zeros((n-1,1))\n",
    "    for i in range(T):  \n",
    "        grad = gradient(X[:,:-1],X[:,-1],w)\n",
    "        w = w-eta*grad\n",
    "    return w\n",
    "\n",
    "w = GradientDescent(X_train,T)\n",
    "train_result = X_train[:,:-1].dot(w)\n",
    "test_result = X_test[:,:-1].dot(w)\n",
    "\n",
    "print(\"Ein:{:.3f}\\n\".format(np.mean(np.sign(train_result)!=y_train)),\"Eout:{:.3f}\".format(np.mean(np.sign(test_result)!=y_test)))"
   ]
  },
  {
   "cell_type": "markdown",
   "metadata": {},
   "source": [
    "### W 隨著T輪的更新變動，T越大，$E_{in}$和$E_{out}$越小，直到達到最小值為止，由此可知，$\\bigtriangledown E_{in}(w)$ 確實讓W朝向$E_{in}$最小值的地方更新。"
   ]
  },
  {
   "cell_type": "code",
   "execution_count": 21,
   "metadata": {},
   "outputs": [
    {
     "data": {
      "image/png": "[encoded data removed]",
      "text/plain": [
       "<Figure size 432x288 with 1 Axes>"
      ]
     },
     "metadata": {
      "needs_background": "light"
     },
     "output_type": "display_data"
    }
   ],
   "source": [
    "y = np.arange(0,0.5,10)\n",
    "m = y.size\n",
    "w_ = np.linspace(100,3100, 30)\n",
    "E_train = []\n",
    "E_test = []\n",
    "\n",
    "for l in w_:\n",
    "    \n",
    "    _w = GradientDescent(X_train,int(l))\n",
    "    ytrain_hat = np.mean(np.sign(X_train[:,:-1].dot(_w))!=y_train) \n",
    "    yteval_hat = np.mean(np.sign(X_test[:,:-1].dot(_w))!=y_test)\n",
    "    E_train.append(ytrain_hat) \n",
    "    E_test.append(yteval_hat) \n",
    "    \n",
    "fig = plt.figure()\n",
    "ax = plt.axes()\n",
    "\n",
    "p1 = ax.scatter(w_, E_train)\n",
    "p2 = ax.scatter(w_, E_test)\n",
    "ax.legend(['E_train','E_test'])\n",
    "plt.title('Error versus T.')\n",
    "plt.ylabel(\"Error\")\n",
    "plt.xlabel(\"T\")\n",
    "plt.show()"
   ]
  },
  {
   "cell_type": "markdown",
   "metadata": {},
   "source": [
    "### 我們可以看到，Gradient Descent 的更新是由所有的$X_{n}$一起決定的，如果$X_{n}$越大，更新一次所需的時間就會隨之增加，因此在資料量過於龐大的時候，GD計算量大的缺點就會暴露出來，因此才有另一種GD的出現：\n",
    "### Stochastic Gradient Descent(SGD) :\n",
    "\n",
    "$$w_{t+1} \\leftarrow w_{t}-\\eta\\theta(-y_{n}w_{t}^{T}X_{n})(-y_{n}X_{n}))$$\n",
    "\n",
    "### SGD 藉由任一選定的$X_{n}$來更新W，而不是整個 X，因此在計算上會比GD快，但是因為SGD並不是使用真正的gradient來更新，因此對於$E_{in}$的更新比較不穩定，但是只要經過足夠次數的更新：\n",
    "\n",
    "$$average \\ true \\ gradient \\simeq SGD$$"
   ]
  },
  {
   "cell_type": "code",
   "execution_count": 40,
   "metadata": {},
   "outputs": [
    {
     "name": "stdout",
     "output_type": "stream",
     "text": [
      "Ein:0.179\n",
      " Eout:0.201\n"
     ]
    }
   ],
   "source": [
    "def SGD(X,T):\n",
    "    m,n = X.shape\n",
    "    w = np.zeros((n-1,1))\n",
    "    for i in range(T):  \n",
    "        ## 將X1 ~ Xn依序拿去做SGD##\n",
    "        grad = (-X[i%m,-1]*X[i%m,:-1])*sigmoid(-X[i%m,-1]*(X[i%m,:-1].dot(w)))\n",
    "        grad = np.reshape(grad,(-1,1))\n",
    "        w = w-eta*grad\n",
    "    return w\n",
    "w = SGD(X_train,2000)\n",
    "\n",
    "train_result = X_train[:,:-1].dot(w)\n",
    "test_result = X_test[:,:-1].dot(w)\n",
    "print(\"Ein:{:.3f}\\n\".format(np.mean(np.sign(train_result)!=y_train)),\"Eout:{:.3f}\".format(np.mean(np.sign(test_result)!=y_test)))"
   ]
  },
  {
   "cell_type": "markdown",
   "metadata": {},
   "source": [
    "### 由結果與GD 比較得知，在足夠的迭代之後，SGD/GD的結果相差約10%，整體來說SGD的結果略好於GD，但是從下圖可以看出SGD的缺點，隨著W的更新，error的曲線震幅很大，有點像喝酒醉，這也體現出SGD的不穩定。"
   ]
  },
  {
   "cell_type": "code",
   "execution_count": 49,
   "metadata": {},
   "outputs": [
    {
     "data": {
      "image/png": "[encoded data removed]",
      "text/plain": [
       "<Figure size 432x288 with 1 Axes>"
      ]
     },
     "metadata": {
      "needs_background": "light"
     },
     "output_type": "display_data"
    }
   ],
   "source": [
    "y = np.arange(0,0.5,10)\n",
    "m = y.size\n",
    "w_ = np.linspace(100,3100, 300)\n",
    "E_train = []\n",
    "E_test = []\n",
    "\n",
    "for l in w_:\n",
    "    _w = SGD(X_train,int(l))\n",
    "    ytrain_hat = np.mean(np.sign(X_train[:,:-1].dot(_w))!=y_train) \n",
    "    yteval_hat = np.mean(np.sign(X_test[:,:-1].dot(_w))!=y_test)\n",
    "    E_train.append(ytrain_hat) \n",
    "    E_test.append(yteval_hat) \n",
    "    \n",
    "fig = plt.figure()\n",
    "ax = plt.axes()\n",
    "\n",
    "p1 = ax.scatter(w_, E_train,s = 10)\n",
    "p2 = ax.scatter(w_, E_test,s = 10)\n",
    "ax.legend(['E_train','E_test'])\n",
    "plt.title('Error versus T.')\n",
    "plt.ylabel(\"Error\")\n",
    "plt.xlabel(\"T\")\n",
    "plt.show()"
   ]
  }
 ],
 "metadata": {
  "kernelspec": {
   "display_name": "Python 3",
   "language": "python",
   "name": "python3"
  },
  "language_info": {
   "codemirror_mode": {
    "name": "ipython",
    "version": 3
   },
   "file_extension": ".py",
   "mimetype": "text/x-python",
   "name": "python",
   "nbconvert_exporter": "python",
   "pygments_lexer": "ipython3",
   "version": "3.7.6"
  }
 },
 "nbformat": 4,
 "nbformat_minor": 4
}
