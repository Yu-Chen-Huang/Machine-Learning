{
 "cells": [
  {
   "cell_type": "markdown",
   "metadata": {},
   "source": [
    "# Neural Network, K-means algorithms and K Nearest Neighbor"
   ]
  },
  {
   "cell_type": "markdown",
   "metadata": {},
   "source": [
    "# Neural Network"
   ]
  },
  {
   "cell_type": "markdown",
   "metadata": {},
   "source": [
    "接下來我要練習的是 Neural Network (NN)，要自己實作他的演算法，當然也要知道他的基本架構以及他是怎麼做 optimization的。下圖是 NN 的基本架構(一樣是借用台大林軒田老師的講記， Machine Learning Techniques L212)，除了 input/output layers 之外，中間的 hidden layers 可以自己決定層數，也可以決定各層要有幾個神經元 (Neurons)，當然一樣要小心 overfitting 的問題。"
   ]
  },
  {
   "cell_type": "markdown",
   "metadata": {},
   "source": [
    "<img src=\"Neural Network.png\" width=\"500\" height=\"500\" align=\"center\"/>"
   ]
  },
  {
   "cell_type": "markdown",
   "metadata": {},
   "source": [
    "在 NN 中，一樣是使用 gradient descent 來做 optimization，只是因為 NN 有數層，向上方的話有兩層 hidden layers，所以相對應的有3個不同的 W，所以在計算上比較特別，並不能直接計算得到。另外，在這裡的 NN 中，會使用 tanh 當作 transformation func.：\n",
    "\n",
    "$$ X^{(1)} = tanh(W^{(1)T}X^{0})$$\n",
    "\n",
    "如果要應用 gradient descent 在 NN 上，我們需要使用 Backpropagation Algorithm :\n",
    "\n",
    "\n",
    "initialize all weight $w_{ij}^{l}$, for t = 0,1,..... T\n",
    "\n",
    "* stochastic : randomly pick n $\\in$ {1,2,....,N} \n",
    "\n",
    "\n",
    "* forward : compute all $x_{i}^{l}$ with $x^{(0)} = x_{n}$\n",
    "\n",
    "\n",
    "* backward compute all $\\delta_{j}^{l}$ subject to $x^{(0)} = x_{n}$ , \n",
    "\n",
    "    where $\\delta_{j}^{l}$ = $\\frac{\\partial e_{n}}{\\partial s^{(l)}_{j}}$ = $\\Sigma_{k}(\\delta_{k}^{(l+1)})(w_{jk}^{l+1})(tanh'(s_{j}^{l}))$\n",
    "\n",
    "* gradient descent : $w_{ij}^{l} \\leftarrow w_{ij}^{l} - \\eta x_{i}^{(l-1)}\\delta_{j}^{l}$ \n",
    "\n",
    "### return $g_{NNET}(x) = (.....tanh(\\Sigma_{j}w_{jk}^{(2)}*tanh(\\Sigma_{i}w_{ij}^{(l)}x_{i})))$\n",
    "\n",
    "因為 $\\delta_{j}^{l}$ 的計算要從$\\delta_{j}^{L}$往回算，因此這個演算法被稱為 backpropagation。\n",
    "\n",
    "另外要注意到， 因為 NN 不保證是 convex的，所以取 gradient 之後也不保證一定會找到 global min，因此 W 的初始也會影響 NN 計算的結果。"
   ]
  },
  {
   "cell_type": "code",
   "execution_count": 17,
   "metadata": {},
   "outputs": [],
   "source": [
    "import numpy as np\n",
    "from numpy.linalg import matrix_power\n",
    "import numpy.linalg as la\n",
    "from matplotlib import pyplot as plt\n",
    "import math\n",
    "\n",
    "X_train = np.genfromtxt(\"/Users/huangyuchen/Desktop/ML_NTU/hw4_nnet_train.dat.txt\")\n",
    "X_test = np.genfromtxt(\"/Users/huangyuchen/Desktop/ML_NTU/hw4_nnet_test.dat.txt\")\n",
    "\n",
    "## adding bias term\n",
    "X_train = np.insert(X_train,0,1,1)\n",
    "X_test = np.insert(X_test,0,1,1)\n",
    "\n",
    "\n",
    "y_tr = X_train[:,-1]\n",
    "Y_test = X_test[:,-1]\n",
    "\n",
    "T = 50000"
   ]
  },
  {
   "cell_type": "markdown",
   "metadata": {},
   "source": [
    "一樣先偷看一下 data。"
   ]
  },
  {
   "cell_type": "code",
   "execution_count": 2,
   "metadata": {},
   "outputs": [
    {
     "data": {
      "image/png": "[encoded data removed]",
      "text/plain": [
       "<Figure size 432x288 with 1 Axes>"
      ]
     },
     "metadata": {
      "needs_background": "light"
     },
     "output_type": "display_data"
    }
   ],
   "source": [
    "plt.scatter(X_train[y_tr == 1][:,1 ], X_train[y_tr == 1][:, 2], s = 10, label='1')\n",
    "plt.scatter(X_train[y_tr == -1][:,1], X_train[y_tr == -1][:, 2], s = 10, label='-1')\n",
    "## 重新將Ｙ的size定義好。\n",
    "y_tr = np.reshape(X_train[:,-1],(-1,1))\n",
    "Y_test = np.reshape(X_test[:,-1],(-1,1))"
   ]
  },
  {
   "cell_type": "markdown",
   "metadata": {},
   "source": [
    "這裡計算 trasformation func.和他的微分。"
   ]
  },
  {
   "cell_type": "code",
   "execution_count": 3,
   "metadata": {},
   "outputs": [],
   "source": [
    "def tanh(x):\n",
    "    return np.tanh(x)\n",
    "def tanhp(x):\n",
    "    return 1/((np.cosh(x))**2)"
   ]
  },
  {
   "cell_type": "code",
   "execution_count": 4,
   "metadata": {},
   "outputs": [],
   "source": [
    "def NNet(X_train,y_tr,n1,n2,eta):\n",
    "    Fout = 0 \n",
    "    Fin = 0\n",
    "    m,n = X_train.shape\n",
    "    ## 因為 W 的初始會影響 NN 計算的結果，所以我們重複100次實驗。\n",
    "    for k in range(100):\n",
    "        ## 先制定空的neurons\n",
    "        S1 = np.zeros((n1,1))\n",
    "        S2 = np.zeros((n2,1))\n",
    "        S3 = np.zeros((n2+1,1))\n",
    "        \n",
    "        ## 隨機生成W1,W2,W3\n",
    "        W1 = (np.random.randint(-10,10,(n-1,n1))/100)\n",
    "        W2 = (np.random.randint(-10,10,(n1+1,n2))/100)\n",
    "        W3 = (np.random.randint(-10,10,(n2+1,1))/100)\n",
    "        ## W 隨機生成 50000次，重複實驗\n",
    "        for l in range(50000):\n",
    "            ## forward compute \n",
    "            ## 隨機選擇 n\n",
    "            num = np.random.randint(0,m)\n",
    "            S1 = X_train[num,:3].dot(W1)  \n",
    "            S1 = np.resize(S1,(n1,1))\n",
    "            X1 = tanh(S1)\n",
    "            X1 = np.insert(X1,0,1,0) \n",
    "            S2 = X1.T.dot(W2) \n",
    "            S2 = np.resize(S2,(n2,1))\n",
    "            X2 = tanh(S2)\n",
    "            X2 = np.insert(X2,0,1,0)\n",
    "            S3 = X2.T.dot(W3)\n",
    "            X3 = tanh(S3)\n",
    "            ##==================================================##\n",
    "            ## backpropagation\n",
    "            d3 = -2*(y_tr[num]-X3)*(tanhp(S3))\n",
    "            d2 = (d3*W3[1:])*(tanhp(S2))        \n",
    "            d1 = (W2[1:].dot(d2))*(tanhp(S1))\n",
    "            X = np.resize(X_train[num,:3],(n2,1))   \n",
    "            W1 = W1 - eta*X.dot(d1.T)        \n",
    "            W2 = W2 - eta*X1.dot(d2.T)\n",
    "            W3 = W3 - eta*np.resize(d3*X2,(n2+1,1))        \n",
    "            ##==================================================##\n",
    "        ## 計算E_out,E_in\n",
    "        P_test = tanh(X_test[:,:3].dot(W1))\n",
    "        P_trai = tanh(X_train[:,:3].dot(W1))\n",
    "        P_test1 = np.insert(P_test,0,1,1)\n",
    "        P_trai1 = np.insert(P_trai,0,1,1) \n",
    "        P_test2 = tanh(P_test1.dot(W2))\n",
    "        P_trai2 = tanh(P_trai1.dot(W2))\n",
    "        P_test2_ = np.insert(P_test2,0,1,1)\n",
    "        P_trai2_ = np.insert(P_trai2,0,1,1) \n",
    "        P_test3 = tanh(P_test2_.dot(W3))\n",
    "        P_trai3 = tanh(P_trai2_.dot(W3))\n",
    "        Fin += np.mean(np.sign(P_trai3)!=y_tr)\n",
    "        Fout += np.mean(np.sign(P_test3)!=Y_test)\n",
    "    return Fout/100,Fin/100"
   ]
  },
  {
   "cell_type": "code",
   "execution_count": 5,
   "metadata": {},
   "outputs": [
    {
     "name": "stdout",
     "output_type": "stream",
     "text": [
      "[0.04400000000000002, 0.004, 0.0, 0.0, 0.0, 0.0, 0.0]\n",
      "[0.05867999999999995, 0.041160000000000016, 0.036680000000000025, 0.03672000000000002, 0.03744000000000002, 0.036840000000000026, 0.03640000000000002]\n"
     ]
    }
   ],
   "source": [
    "Ein = []\n",
    "Eout = []\n",
    "for i in range(1,8):\n",
    "    Fout,Fin = NNet(X_train,y_tr,i,3,0.01)\n",
    "    Ein.append(Fin)\n",
    "    Eout.append(Fout)\n",
    "    \n",
    "print(Ein)\n",
    "print(Eout)"
   ]
  },
  {
   "cell_type": "markdown",
   "metadata": {},
   "source": [
    "我們固定層數，試著對 neurons 的數量和 Error 做分析，neurons 的數量越高，不論是E_in 和 E_out 的誤差都會變小。從 # neurons = 3開始，E_in = 0，而且 E_out 也差不多在 3.6% 附近跑，就算再增加 neurons 的數量，E_out 的表現也不會再更好了。如果要試著解決這樣的問題，增加 training set 是其中一個可能的方法。\n",
    "\n",
    "如果這樣的 E_out 表現已經可以接受，那將 # neurons = 3 會是計算效率上最好的值。"
   ]
  },
  {
   "cell_type": "code",
   "execution_count": 23,
   "metadata": {},
   "outputs": [
    {
     "data": {
      "text/plain": [
       "<matplotlib.legend.Legend at 0x11bf02250>"
      ]
     },
     "execution_count": 23,
     "metadata": {},
     "output_type": "execute_result"
    },
    {
     "data": {
      "image/png": "[encoded data removed]",
      "text/plain": [
       "<Figure size 432x288 with 1 Axes>"
      ]
     },
     "metadata": {
      "needs_background": "light"
     },
     "output_type": "display_data"
    }
   ],
   "source": [
    "w_ = np.linspace(1,7,7)\n",
    "fig = plt.figure()\n",
    "plt.plot(w_,Ein)\n",
    "plt.plot(w_,Eout)\n",
    "\n",
    "plt.title('Error vs # Neurons')\n",
    "plt.ylabel(\"$Error$ \")\n",
    "plt.xlabel(\"# Neurons\")\n",
    "plt.legend(['Ein','Eout'])"
   ]
  },
  {
   "cell_type": "markdown",
   "metadata": {},
   "source": [
    "# K-means Algorithm"
   ]
  },
  {
   "cell_type": "markdown",
   "metadata": {},
   "source": [
    "K-means 的目標是將 data set 分成 K 個集合，通常會搭配 RBF Network，不過這邊我們只會實作 K-means Algorithms。"
   ]
  },
  {
   "cell_type": "markdown",
   "metadata": {},
   "source": [
    "* initialize $\\mu_{1},\\mu_{2},\\mu_{3}....\\mu_{k} :$ k randomly chosen $x_{n}$\n",
    "\n",
    "* alternating optimization of $E_{in}$ : repeatedly\n",
    "    \n",
    "    * optimize $S_{1},S_{2}......S_{k}:$\n",
    "    \n",
    "    where $S_{k}$ is the subsets of dataset.\n",
    "     \n",
    "    each $x_{n}$ \"optimally partitioned\" using its closest $\\mu_{i}$\n",
    "    \n",
    "    * optimize $ \\mu_{1},\\mu_{2}......\\mu_{k}:$\n",
    "       \n",
    "    each $\\mu_{n}$ \"optimally computed\" as consensus within $S_{m}$ until converage\n",
    "    \n",
    "  \n",
    "* converage : no change of $S_{1},S_{2}......S_{k}$ - guaranteed as $E_{in}$ decreases during alternating minimization.\n",
    "\n",
    "\n",
    "where $E_{in}(S_{1},S_{2}......S_{k};\\mu_{1},\\mu_{2}......\\mu_{k}) = \\frac{1}{N}\\Sigma_{n=1}^{N}\\Sigma_{m=1}^{M} [x_{n}\\in S_{m}]||x_{n} - \\mu_{m}||^{2}$ "
   ]
  },
  {
   "cell_type": "code",
   "execution_count": 9,
   "metadata": {},
   "outputs": [],
   "source": [
    "X_kmean = np.genfromtxt(\"/Users/huangyuchen/Desktop/ML_NTU/hw4_nolabel_train.dat.txt\")\n",
    "n,m = X_kmean.shape"
   ]
  },
  {
   "cell_type": "code",
   "execution_count": 36,
   "metadata": {},
   "outputs": [],
   "source": [
    "class Kmean:\n",
    "    \n",
    "    def __init__(self, k):\n",
    "        ## import K\n",
    "        self.k = k\n",
    "        \n",
    "    def optimal(self,Xtrain):\n",
    "        Fs = 0\n",
    "        ## initialize mu_{k}\n",
    "        mu = np.random.randint(0,n,self.k)\n",
    "        Xm = np.split(X_kmean[mu],self.k,axis = 0)\n",
    "        Xm = np.reshape(Xm,(self.k,1,m))\n",
    "        ## initailize S_{k}\n",
    "        S = np.zeros((self.k,1,m)) \n",
    "        label1 = np.zeros((n,))\n",
    "        ## create empty label\n",
    "        \n",
    "        ## 重複實驗500次\n",
    "        for l in range(500):\n",
    "            ## 只要還可以繼續更新，就繼續更新。\n",
    "            while True:\n",
    "                ## calculate |X-Xm|^2 and choose min as label\n",
    "                norm = la.norm((Xtrain - Xm),axis = 2) \n",
    "                ## label 會計算各個點最靠近的 S_{k}，\n",
    "                label = np.argmin(norm,axis = 0)\n",
    "                for i in range(self.k):\n",
    "                    ## 如果label全部都是同一個分類，或是全部都不是i這個分類，就啥事都不要做。\n",
    "                    if np.sum(i==label) == 0 or np.sum(i!=label) == 0:\n",
    "                        continue\n",
    "                        \n",
    "                    ## 將所有被label成i的點組合起來計算出新的 mu\n",
    "                    else:\n",
    "                        S[i] = np.sum(Xtrain[i==label],axis = 0)/np.sum(i==label)\n",
    "                \n",
    "                ## 如果更新後的label和前一個label一樣，那就跳出迴圈。\n",
    "                if np.mean(label==label1)==1:\n",
    "                    break\n",
    "                ## 更新mu\n",
    "                else:\n",
    "                    Xm = S\n",
    "                ## 更新 label   \n",
    "                label1 = label\n",
    "                \n",
    "            ##計算 Ein\n",
    "            for i in range(self.k):\n",
    "                di = Xtrain[i==label]-S[i]\n",
    "                Fs = Fs + (1/n)*np.sum(np.sum(di*di,axis=1))\n",
    "\n",
    "        return Fs/500\n",
    "\n",
    "FS = []\n",
    "\n",
    "for i in range(1,11):\n",
    "    K_m = Kmean(i)\n",
    "    FS.append(K_m.optimal(X_kmean))"
   ]
  },
  {
   "cell_type": "markdown",
   "metadata": {},
   "source": [
    "當我們將一組data分成越多群，他們和各自的中心點距離的合，應該要變小，就如下圖所示。"
   ]
  },
  {
   "cell_type": "code",
   "execution_count": 37,
   "metadata": {},
   "outputs": [
    {
     "data": {
      "text/plain": [
       "<matplotlib.legend.Legend at 0x11c7c8ad0>"
      ]
     },
     "execution_count": 37,
     "metadata": {},
     "output_type": "execute_result"
    },
    {
     "data": {
      "image/png": "[encoded data removed]",
      "text/plain": [
       "<Figure size 432x288 with 1 Axes>"
      ]
     },
     "metadata": {
      "needs_background": "light"
     },
     "output_type": "display_data"
    }
   ],
   "source": [
    "w_ = np.linspace(1,10,10)\n",
    "fig = plt.figure()\n",
    "plt.plot(w_,FS)\n",
    "\n",
    "plt.title('Error vs # K')\n",
    "plt.ylabel(\"$E$ \")\n",
    "plt.xlabel(\"# K\")\n",
    "plt.legend(['Ein'])"
   ]
  },
  {
   "cell_type": "markdown",
   "metadata": {},
   "source": [
    "# K Nearest Neighbor"
   ]
  },
  {
   "cell_type": "markdown",
   "metadata": {},
   "source": [
    "### $g_{uniform}(x)$ = $sign(\\Sigma_{m=1}^{N}y_{m} exp(-\\gamma |x-x_{m}|^{2})$ )\n",
    "\n",
    "\n",
    "* $exp(-\\gamma |x-x_{m}|^{2})$) : max when x closest to $x_{m}$ - max one dominates.\n",
    "\n",
    "\n",
    "* we take $y_{m}$ of max exp(...) here.\n",
    "\n",
    "\n",
    "* meaning : \n",
    "    \n",
    "  $g_{nbor}(x) = y_{m}$ s.t x closest to $x_{m}$\n",
    "  "
   ]
  },
  {
   "cell_type": "code",
   "execution_count": 65,
   "metadata": {},
   "outputs": [],
   "source": [
    "X_nbor_train = np.genfromtxt(\"/Users/huangyuchen/Desktop/ML_NTU/hw4_nbor_train.dat.txt\")\n",
    "X_nbor_test = np.genfromtxt(\"/Users/huangyuchen/Desktop/ML_NTU/hw4_nbor_test.dat.txt\")\n",
    "\n",
    "Y = X_nbor_train[:,-1]\n",
    "Y = np.reshape(Y,(-1,1))\n",
    "Y_test = X_nbor_test[:,-1]\n",
    "Y_test = np.reshape(Y_test,(-1,1))"
   ]
  },
  {
   "cell_type": "code",
   "execution_count": 163,
   "metadata": {},
   "outputs": [],
   "source": [
    "class K_NN:\n",
    "    def __init__(self, k):\n",
    "        ## 決定有幾個 K nearest neighbor\n",
    "        self.k = k\n",
    "        \n",
    "    def KNN(self, X_tr,X_te,Y,Y_test):\n",
    "        #==========================================#\n",
    "        ## 計算 |x-xm|^2，如果是在計算 X_test的話，用X_train 來當作 xm\n",
    "        dX = np.sum(X_tr*X_tr,axis = 1)\n",
    "        dXX = np.sum(X_te*X_te,axis =1)\n",
    "        disx = np.reshape(dX,(1,-1))\n",
    "        disxx = np.reshape(dXX,(-1,1))\n",
    "        dist = (disxx + disx) - 2*X_te.dot(X_tr.T)\n",
    "        #==========================================#\n",
    "        ## 選擇最靠近的 K 個點\n",
    "        idx = np.argsort(dist,axis = 1)[:,:self.k]\n",
    "        ## 將最靠近 K 個點的 ym 相加\n",
    "        result = np.sum(Y[idx],axis = 1)\n",
    "        ## 因為偶數點有一定機率會出現相加後 = 0，所以手動把它變成 -1。\n",
    "        result[result == 0] = -1\n",
    "        y = np.sign(result)\n",
    "        return np.mean(y!=Y_test)\n",
    "\n",
    "Ein = []\n",
    "Eout = []\n",
    "\n",
    "for i in range(1,10):\n",
    "    Neibor = K_NN(i)\n",
    "    Ein.append(Neibor.KNN(X_nbor_train[:,:-1],X_nbor_train[:,:-1],Y,Y)) \n",
    "    Eout.append(Neibor.KNN(X_nbor_train[:,:-1],X_nbor_test[:,:-1],Y,Y_test))"
   ]
  },
  {
   "cell_type": "markdown",
   "metadata": {},
   "source": [
    "如果 K = 1，E_in理所當然會 = 0，因為最靠近自己的點就是自己。但是隨著K越大 Ein反而有越差的趨勢，所以我猜可能這樣的演算法還是太簡陋了，還是要把權重考慮進去，才可以得到比較好的結果。"
   ]
  },
  {
   "cell_type": "code",
   "execution_count": 164,
   "metadata": {},
   "outputs": [
    {
     "data": {
      "text/plain": [
       "<matplotlib.legend.Legend at 0x1206277d0>"
      ]
     },
     "execution_count": 164,
     "metadata": {},
     "output_type": "execute_result"
    },
    {
     "data": {
      "image/png": "[encoded data removed]",
      "text/plain": [
       "<Figure size 432x288 with 1 Axes>"
      ]
     },
     "metadata": {
      "needs_background": "light"
     },
     "output_type": "display_data"
    }
   ],
   "source": [
    "w_ = np.linspace(1,9,9)\n",
    "fig = plt.figure()\n",
    "plt.plot(w_,Ein)\n",
    "plt.plot(w_,Eout)\n",
    "\n",
    "plt.title('Error vs # K')\n",
    "plt.ylabel(\"$E$ \")\n",
    "plt.xlabel(\"# K\")\n",
    "plt.legend(['Ein','Eout'])"
   ]
  },
  {
   "cell_type": "markdown",
   "metadata": {},
   "source": [
    "下面把權重都考慮進去，為了方便計算令K = total # data。從圖表可以看出來，隨著$\\gamma$ 越大，E_in就會越小，這是因為 $\\gamma$ 越大越會強調 $x = x_{m}$這個點的權重，當然預測出來的結果就會越準。\n",
    "\n",
    "至於E_out的趨勢大致上和E_in一樣，但是最小值出現在$\\gamma$ = 0.01的地方，這代表$\\gamma$ 太大可能造成了 overfitting。"
   ]
  },
  {
   "cell_type": "code",
   "execution_count": 317,
   "metadata": {},
   "outputs": [],
   "source": [
    "class K_NN＿weight:\n",
    "    def __init__(self,ga):\n",
    "        ## 決定gamma\n",
    "\n",
    "        self.ga = ga\n",
    "        \n",
    "    def KNN(self,X_tr,X_te,Y,Y_test):\n",
    "        #==========================================#\n",
    "        ## 計算 |x-xm|^2，如果是在計算 X_test的話，用X_train 來當作 xm\n",
    "        dX = np.sum(X_tr*X_tr,axis = 1)\n",
    "        dXX = np.sum(X_te*X_te,axis =1)\n",
    "        disx = np.reshape(dX,(1,-1))\n",
    "        disxx = np.reshape(dXX,(-1,1))\n",
    "        dist = (disxx + disx) - 2*X_te.dot(X_tr.T)\n",
    "        #==========================================#\n",
    "        ## 計算權重\n",
    "        d = np.exp((-self.ga)*dist)\n",
    "        \n",
    "        ## ym乘上權重之後的結果相加\n",
    "        result = np.reshape(np.sum(d*Y.T,axis = 1),(-1,1))\n",
    "        y = np.sign(result)\n",
    "        \n",
    "        \n",
    "        return np.mean(y!=Y_test)\n",
    "\n",
    "\n",
    "Ein = []\n",
    "Eout = []\n",
    "gamma = [0.001,0.01,0.1,1,10,100]\n",
    "for i in gamma:\n",
    "    Neibor = K_NN_weight(i)\n",
    "    Ein.append(Neibor.KNN(X_nbor_train[:,:-1],X_nbor_train[:,:-1],Y,Y)) \n",
    "    Eout.append(Neibor.KNN(X_nbor_train[:,:-1],X_nbor_test[:,:-1],Y,Y_test))"
   ]
  },
  {
   "cell_type": "code",
   "execution_count": 320,
   "metadata": {},
   "outputs": [
    {
     "data": {
      "text/plain": [
       "<matplotlib.legend.Legend at 0x121ed3550>"
      ]
     },
     "execution_count": 320,
     "metadata": {},
     "output_type": "execute_result"
    },
    {
     "data": {
      "image/png": "[encoded data removed]",
      "text/plain": [
       "<Figure size 432x288 with 1 Axes>"
      ]
     },
     "metadata": {
      "needs_background": "light"
     },
     "output_type": "display_data"
    }
   ],
   "source": [
    "fig = plt.figure()\n",
    "plt.plot(gamma,Ein)\n",
    "plt.plot(gamma,Eout)\n",
    "\n",
    "plt.title('Error vs $\\gamma$')\n",
    "plt.ylabel(\"$E$ \")\n",
    "plt.xlabel(\"$\\gamma$\")\n",
    "plt.legend(['Ein','Eout'])"
   ]
  },
  {
   "cell_type": "code",
   "execution_count": null,
   "metadata": {},
   "outputs": [],
   "source": []
  }
 ],
 "metadata": {
  "kernelspec": {
   "display_name": "Python 3",
   "language": "python",
   "name": "python3"
  },
  "language_info": {
   "codemirror_mode": {
    "name": "ipython",
    "version": 3
   },
   "file_extension": ".py",
   "mimetype": "text/x-python",
   "name": "python",
   "nbconvert_exporter": "python",
   "pygments_lexer": "ipython3",
   "version": "3.7.6"
  }
 },
 "nbformat": 4,
 "nbformat_minor": 4
}
