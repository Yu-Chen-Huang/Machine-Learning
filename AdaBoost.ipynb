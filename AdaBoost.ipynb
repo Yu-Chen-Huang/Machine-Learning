{
 "cells": [
  {
   "cell_type": "markdown",
   "metadata": {},
   "source": [
    "# Adaptive Boost (AdaBoost) Algorithm"
   ]
  },
  {
   "cell_type": "markdown",
   "metadata": {},
   "source": [
    "* $u^{(1)}$ = [$\\frac{1}{N}$,$\\frac{1}{N}$,$\\frac{1}{N}$,......,$\\frac{1}{N}$]\n",
    "\n",
    "\n",
    "\n",
    "  for t = 1,2...,T : \n",
    "  \n",
    "* obtain $g_{t}$ by A(D,$u_{t}$), where A tries to min $u_{t}$, weighted 0/1 error\n",
    "\n",
    "\n",
    "* update $u_{t}$ to $u_{t+1}$ by\n",
    "$$[y_{n}\\neq g_{t}(x_{n})]:u^{t+1}_{n} \\leftarrow u^{t}_{n}*\\xi_{t} $$\n",
    "\n",
    "$$[y_{n} = g_{t}(x_{n})]:u^{t+1}_{n} \\leftarrow \\frac{u^{t}_{n}}{\\xi_{t}}$$\n",
    "\n",
    "where $\\xi_{t}$ = $\\sqrt{\\frac{1-\\epsilon_{t}}{\\epsilon_{t}}}$  and $$\\epsilon_{t}=\\frac{\\Sigma^{N}_{n=1}u^{t}_{n}[y_{n}\\neq g_{t}(x_{n})]}{\\Sigma^{N}_{n=1}u^{t}_{n}}$$\n",
    "\n",
    "* compute $\\alpha_{t} = ln(\\xi_{t})$ \n",
    "\n",
    "return $G(x) = sign(\\Sigma^{T}_{t=1}\\alpha_{t}g_{t}(x))$"
   ]
  },
  {
   "cell_type": "markdown",
   "metadata": {},
   "source": [
    "Adboost的核心概念就是放大錯誤的點的權重，縮小正確的點的權重。透過AdBoost，我們只要找到T個不同的 $g_{t}$，$g_{t}$ 的表現也不用太好，其實只要稍稍比隨便亂猜好一點就可以了，然後我們將這 T 個$g_{t}$ aggregate起來，就可以得到一個表現還不錯的 G(x)。當然AdaBoost這樣操作背後的意義其實是每一輪 t 都透過 Gradient Descent往下一輪更新，而更新錯誤/正確點的權重的同時，也在確保 $g_{t+1}$ diverse from $g_{t}$，如果 $g_{t}$ 和 $g_{t+1}$ 相近的話，那兩個相近的 g 相加也只會得到另一個相近的 g'。\n",
    "\n",
    "我們這裡使用的 A 是 decision_stump，並透過計算個輪的 $g_{t}$，得到 G(x)。"
   ]
  },
  {
   "cell_type": "code",
   "execution_count": 1,
   "metadata": {},
   "outputs": [
    {
     "data": {
      "text/plain": [
       "((100, 3), (1000, 3))"
      ]
     },
     "execution_count": 1,
     "metadata": {},
     "output_type": "execute_result"
    }
   ],
   "source": [
    "import numpy as np\n",
    "import math\n",
    "from matplotlib import pyplot as plt\n",
    "\n",
    "X_train = np.genfromtxt(\"/Users/huangyuchen/Desktop/ML_NTU/hw2_adaboost_train.dat.txt\")\n",
    "X_test = np.genfromtxt(\"/Users/huangyuchen/Desktop/ML_NTU/hw2_adaboost_test.dat.txt\")\n",
    "\n",
    "X_train.shape,X_test.shape"
   ]
  },
  {
   "cell_type": "markdown",
   "metadata": {},
   "source": [
    "### 先偷看一下data。"
   ]
  },
  {
   "cell_type": "code",
   "execution_count": 2,
   "metadata": {},
   "outputs": [
    {
     "data": {
      "text/plain": [
       "<matplotlib.collections.PathCollection at 0x114a9ee50>"
      ]
     },
     "execution_count": 2,
     "metadata": {},
     "output_type": "execute_result"
    },
    {
     "data": {
      "image/png": "[encoded data removed]",
      "text/plain": [
       "<Figure size 432x288 with 1 Axes>"
      ]
     },
     "metadata": {
      "needs_background": "light"
     },
     "output_type": "display_data"
    }
   ],
   "source": [
    "plt.scatter(X_train[X_train[:,-1] == 1][:, 0], X_train[X_train[:,-1] == 1][:, 1], s = 5, label='1')\n",
    "plt.scatter(X_train[X_train[:,-1] ==-1][:, 0], X_train[X_train[:,-1] ==-1][:, 1], s = 5, label='-1')"
   ]
  },
  {
   "cell_type": "markdown",
   "metadata": {},
   "source": [
    "###  先將獲得Theta的方程式定義出來，一樣是取單一維度上任兩點之間的中點當作Theta。"
   ]
  },
  {
   "cell_type": "code",
   "execution_count": 3,
   "metadata": {},
   "outputs": [],
   "source": [
    "def obtaintheta(x):\n",
    "    TrainX1 = sorted(x)\n",
    "    Second1 = np.append(TrainX1[1:],(TrainX1[-1]))\n",
    "    Theta = np.insert((TrainX1+Second1)/2,0,TrainX1[0]-0.1,0)\n",
    "    Theta[-1] = TrainX1[-1] + 0.1\n",
    "    return Theta\n",
    "\n",
    "Theta1 = obtaintheta(X_train[:,0])\n",
    "Theta2 = obtaintheta(X_train[:,1])\n",
    "Theta = np.c_[Theta1,Theta2]"
   ]
  },
  {
   "cell_type": "markdown",
   "metadata": {},
   "source": [
    "### 定義decision_stump function，和尋找維度與Theta與s。\n",
    "\n",
    "下方我們用broadcast的性質一次性的計算所以Theta的值，因為要找的是$g_{t}u^{t}$的最小值因此我們把整個舉證拿去對u內積，找到最小值對應的值、s以及index。"
   ]
  },
  {
   "cell_type": "code",
   "execution_count": 4,
   "metadata": {},
   "outputs": [],
   "source": [
    "def decision(X3,Theta3,Y3,U,s):\n",
    "    \n",
    "    ### 進行矩陣化運算，把輸入的data point擴展到和Theta3同樣多列，利用np可以broadcast的性質一次性運算。###\n",
    "    X1 = np.tile(X3,(len(Theta3),1)) \n",
    "    g1 = s[0]*np.sign((X1.T - Theta3))\n",
    "    g2 = s[1]*np.sign((X1.T - Theta3))\n",
    "    ## 因為np.sign會把等於0的值sign成0，所以這邊手動調整一下。##\n",
    "    g1[g1 == 0] = 1\n",
    "    g2[g2 == 0] = 1\n",
    "    result1 = (g1.T!=Y3).dot(U)\n",
    "    result2 = (g2.T!=Y3).dot(U)\n",
    "    min1 = min(result1)\n",
    "    min2 = min(result2)\n",
    "    ## 這裡先決定是 1 or -1##\n",
    "    if min1 > min2:\n",
    "        mino = min2\n",
    "        minde = np.argmin(np.sum(result2,axis=1))\n",
    "        s = s[1]\n",
    "    else:\n",
    "        mino = min1\n",
    "        minde = np.argmin(np.sum(result1,axis=1))\n",
    "        s = s[0]\n",
    "        \n",
    "    return mino,minde,s"
   ]
  },
  {
   "cell_type": "markdown",
   "metadata": {},
   "source": [
    "接著再對兩個維度分別使用decision，找出minimum of minimum。"
   ]
  },
  {
   "cell_type": "code",
   "execution_count": 5,
   "metadata": {},
   "outputs": [],
   "source": [
    "def alldata(X1,Y1,U,Theta1):\n",
    "    ## 這裡決定是X的哪一個維度##\n",
    "    mino1,minde1,s1 = decision(X1[:,0],Theta1[:,0],Y1,U,[1,-1])  \n",
    "    mino2,minde2,s2 = decision(X1[:,1],Theta1[:,1],Y1,U,[1,-1])\n",
    "    \n",
    "    if mino1 > mino2:\n",
    "        index = 1\n",
    "        minu = mino2\n",
    "        s = s2\n",
    "        minde = minde2\n",
    "    else:\n",
    "        index = 0\n",
    "        minu = mino1\n",
    "        s = s1\n",
    "        minde = minde1\n",
    "    return minu,s,minde,index"
   ]
  },
  {
   "cell_type": "code",
   "execution_count": 6,
   "metadata": {},
   "outputs": [
    {
     "name": "stdout",
     "output_type": "stream",
     "text": [
      "Ein(G) : 0.0\n"
     ]
    }
   ],
   "source": [
    "def adboost(X0,Y0,Theta0):\n",
    "    ## 初始U##\n",
    "    E = []\n",
    "    pack = []\n",
    "    U1 = np.ones((len(X0),1))*(1/len(X0))\n",
    "    result = np.zeros((len(X0),))\n",
    "    for i in range(300):\n",
    "        minu,s,minde,index = alldata(X0,Y0,U1,Theta0)\n",
    "        g = s*np.sign(X0[:,index] - Theta0[:,index][minde])\n",
    "        ## 這裡一樣手動修正np.sign##\n",
    "        g[g==0] = 1\n",
    "        ## 為了更新u，這裡要計算epsilon＃＃\n",
    "        ep =(g!=Y0).dot(U1)/(np.sum(U1))\n",
    "        di = np.sqrt(( 1 - ep )/ep)\n",
    "        alpha = np.log(di)\n",
    "        ## 為了之後要算E_out，把計算g和G的元素都先存起來。\n",
    "        pack.append([alpha,s,minde,index])\n",
    "        idx1 = g!= Y0\n",
    "        idx2 = g == Y0\n",
    "        U1[idx1] = U1[idx1]*di       \n",
    "        U1[idx2] = U1[idx2]/di \n",
    "        result = result + alpha*g\n",
    "\n",
    "        E.append(np.mean(np.sign(result)!=X_train[:,-1]))\n",
    "       \n",
    "    return np.mean(np.sign(result)!=Y0),E,pack\n",
    "\n",
    "Ein, Error_in, pa= adboost(X_train[:,:-1],X_train[:,-1],Theta)\n",
    "\n",
    "print(\"Ein(G) :\",Ein)"
   ]
  },
  {
   "cell_type": "markdown",
   "metadata": {},
   "source": [
    "### AdaBoost 預測的錯誤率的確隨著T上升而下降。"
   ]
  },
  {
   "cell_type": "code",
   "execution_count": 7,
   "metadata": {},
   "outputs": [
    {
     "data": {
      "text/plain": [
       "<matplotlib.legend.Legend at 0x11940de10>"
      ]
     },
     "execution_count": 7,
     "metadata": {},
     "output_type": "execute_result"
    },
    {
     "data": {
      "image/png": "[encoded data removed]",
      "text/plain": [
       "<Figure size 432x288 with 1 Axes>"
      ]
     },
     "metadata": {
      "needs_background": "light"
     },
     "output_type": "display_data"
    }
   ],
   "source": [
    "w_ = np.linspace(0,300,300)\n",
    "fig = plt.figure()\n",
    "plt.plot(w_,Error_in)\n",
    "\n",
    "plt.title('Error vs T')\n",
    "plt.ylabel(\"$Error$ \")\n",
    "plt.xlabel(\"$T$\")\n",
    "plt.legend(['Ein'])"
   ]
  },
  {
   "cell_type": "code",
   "execution_count": 8,
   "metadata": {},
   "outputs": [
    {
     "name": "stdout",
     "output_type": "stream",
     "text": [
      "Eout(G) : 0.132\n"
     ]
    }
   ],
   "source": [
    "w_ = np.linspace(0,300,300)\n",
    "E_out = np.zeros((1,len(X_test)))\n",
    "y_test = np.reshape(X_test[:,-1],(1,-1))\n",
    "Eo = []\n",
    "for i in range(300):\n",
    "    ## 這裡計算每一輪的 alpha(t)*g(t)，然後合成G。\n",
    "    E_out += [pa[i][0]*(pa[i][1]*np.sign(X_test[:,pa[i][3]] - Theta[:,pa[i][3]][pa[i][2]]))]\n",
    "    Eo.append(np.mean(np.sign(E_out)!=y_test))\n",
    "\n",
    "print(\"Eout(G) :\",np.mean(np.sign(E_out)!=y_test))"
   ]
  },
  {
   "cell_type": "markdown",
   "metadata": {},
   "source": [
    "### E_out 預測的錯誤率也隨著T上升而下降。"
   ]
  },
  {
   "cell_type": "code",
   "execution_count": 9,
   "metadata": {},
   "outputs": [
    {
     "data": {
      "text/plain": [
       "<matplotlib.legend.Legend at 0x11949ca10>"
      ]
     },
     "execution_count": 9,
     "metadata": {},
     "output_type": "execute_result"
    },
    {
     "data": {
      "image/png": "[encoded data removed]",
      "text/plain": [
       "<Figure size 432x288 with 1 Axes>"
      ]
     },
     "metadata": {
      "needs_background": "light"
     },
     "output_type": "display_data"
    }
   ],
   "source": [
    "plt.plot(w_,Eo)\n",
    "plt.title('Error vs T')\n",
    "plt.ylabel(\"$Error$ \")\n",
    "plt.xlabel(\"$T$\")\n",
    "plt.legend(['Eout'])"
   ]
  }
 ],
 "metadata": {
  "kernelspec": {
   "display_name": "Python 3",
   "language": "python",
   "name": "python3"
  },
  "language_info": {
   "codemirror_mode": {
    "name": "ipython",
    "version": 3
   },
   "file_extension": ".py",
   "mimetype": "text/x-python",
   "name": "python",
   "nbconvert_exporter": "python",
   "pygments_lexer": "ipython3",
   "version": "3.7.6"
  }
 },
 "nbformat": 4,
 "nbformat_minor": 4
}
