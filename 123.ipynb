{
 "cells": [
  {
   "cell_type": "markdown",
   "metadata": {},
   "source": [
    "# Machine Learning memo\n",
    "\n",
    "最近剛上完台大林軒田老師的Machine Learning Techniques和Machine Learning Foundations，總時程大概一個多月，因為時間有一點長，所以這裡把自己train過的data整理一下，因為不像real world data一樣要花大部分的時間做preprocessing，都是可以直接拿來train的data，所以這邊只有整理一些演算法(算演算法嗎？)。\n",
    "\n",
    "### Perceptron Learning algorithm：\n",
    "\n",
    "先看一下PLA的基本核心：\n",
    "\n",
    "start from some $W_{0}$,\n",
    "\n",
    "For t = 0,1.......\n",
    "\n",
    "* find the next mistake of $W_{t}$ called ($X_{n(t)}$, $y_{n(t)}$):\n",
    "\n",
    "$$sign(W_{t}^{T}X_{n(t)}) \\neq y_{n(t)}$$\n",
    "\n",
    "* correct the mistake by:\n",
    "\n",
    "$$W_{t+1} \\leftarrow W_{t} + y_{n(t)} X_{n(t)} $$\n",
    "\n",
    "所以根據我們手上有的train data和test data，我們可以用PLA去train我們的data並且用來預測test data。\n",
    "\n",
    "### 先load data"
   ]
  },
  {
   "cell_type": "code",
   "execution_count": 1,
   "metadata": {
    "slideshow": {
     "slide_type": "notes"
    }
   },
   "outputs": [],
   "source": [
    "import numpy as np\n",
    "import matplotlib.pyplot as plt\n",
    "\n",
    "X_train15 = np.genfromtxt(\"/Users/huangyuchen/Desktop/ML_NTU/hw1_15_train.dat.txt\")\n",
    "X_train18 = np.genfromtxt(\"/Users/huangyuchen/Desktop/ML_NTU/hw1_18_train.dat.txt\")\n",
    "X_test18 = np.genfromtxt(\"/Users/huangyuchen/Desktop/ML_NTU/hw1_18_test.dat.txt\")\n",
    "## adding bias and initial W\n",
    "X_train15 = np.insert(X_train15,0,1,1)\n",
    "X_train18 = np.insert(X_train18,0,1,1)\n",
    "X_test18 = np.insert(X_test18,0,1,1)\n",
    "m,n = X_train15.shape\n",
    "W = np.zeros((1,n-1))"
   ]
  },
  {
   "cell_type": "code",
   "execution_count": 2,
   "metadata": {},
   "outputs": [
    {
     "data": {
      "text/plain": [
       "0.0"
      ]
     },
     "execution_count": 2,
     "metadata": {},
     "output_type": "execute_result"
    }
   ],
   "source": [
    "def PLA(X,y,W,eta):\n",
    "    error = 1\n",
    "    l = 0\n",
    "    while (error!=0):\n",
    "        y = np.reshape(y,(m,1))\n",
    "        for i in range(m):\n",
    "            if np.sign(W.dot(X[i,:-1]))!= y[i]:\n",
    "                W = W + eta*y[i]*X[i,:-1]                \n",
    "                error = min(error,np.mean(np.sign(X[:,:-1].dot(W.T))!=y))\n",
    "                break\n",
    "    \n",
    "    return error\n",
    "\n",
    "PLA(X_train15,X_train15[:,-1],W,1)"
   ]
  },
  {
   "cell_type": "markdown",
   "metadata": {},
   "source": [
    "由結果可以看到，因為是設計好的data的關係，所以PLA會停下來，並且得到$E_{in}=0$，然而這並不是一個實用的演算法，因為很明顯現實中的data並不是這麼的單純。"
   ]
  }
 ],
 "metadata": {
  "celltoolbar": "Edit Metadata",
  "kernelspec": {
   "display_name": "Python 3",
   "language": "python",
   "name": "python3"
  },
  "language_info": {
   "codemirror_mode": {
    "name": "ipython",
    "version": 3
   },
   "file_extension": ".py",
   "mimetype": "text/x-python",
   "name": "python",
   "nbconvert_exporter": "python",
   "pygments_lexer": "ipython3",
   "version": "3.7.6"
  }
 },
 "nbformat": 4,
 "nbformat_minor": 4
}
