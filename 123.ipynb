{
 "cells": [
  {
   "cell_type": "markdown",
   "metadata": {},
   "source": [
    "# Machine Learning memo\n",
    "\n",
    "最近剛上完台大林軒田老師的Machine Learning Techniques和Machine Learning Foundations，總時程大概一個多月，因為時間有一點長，所以這裡把自己train過的data整理一下，因為不像real world data一樣要花大部分的時間做preprocessing，都是可以直接拿來train的data，所以這邊只有整理一些演算法(算演算法嗎？)。\n",
    "\n",
    "### Perceptron Learning algorithm：\n",
    "\n",
    "先看一下PLA的基本核心：\n",
    "%%latex\n",
    "start from some \\begin{align} \\W_{0} \\end{align},\n"
   ]
  },
  {
   "cell_type": "code",
   "execution_count": null,
   "metadata": {},
   "outputs": [],
   "source": []
  }
 ],
 "metadata": {
  "celltoolbar": "Edit Metadata",
  "kernelspec": {
   "display_name": "Python 3",
   "language": "python",
   "name": "python3"
  },
  "language_info": {
   "codemirror_mode": {
    "name": "ipython",
    "version": 3
   },
   "file_extension": ".py",
   "mimetype": "text/x-python",
   "name": "python",
   "nbconvert_exporter": "python",
   "pygments_lexer": "ipython3",
   "version": "3.7.6"
  }
 },
 "nbformat": 4,
 "nbformat_minor": 4
}
