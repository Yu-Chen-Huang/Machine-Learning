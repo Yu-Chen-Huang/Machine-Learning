{
 "cells": [
  {
   "cell_type": "markdown",
   "metadata": {},
   "source": [
    "# Regularized Linear Regression(Ridge regression) and Validation"
   ]
  },
  {
   "cell_type": "markdown",
   "metadata": {},
   "source": [
    "### 線性回歸也是一個很基本的算法，透過X和y的計算，可以直接算出回歸直線的向量：\n",
    "$$W_{Lin} = (X^{T}X)^{-1}X^{T}y$$\n",
    "### 而這裡使用的Error func. 是sqr Error：\n",
    "$$err_{sqr} = (W^{T}X - y)^{2}$$\n",
    "### 如果要同時考慮到抑制overfitting的發生，我們這裡使用常見的L2 regularizer，所以整個求最佳W 的問題就變成 : \n",
    "### $$ argmin_{w} \\ E_{aug} = argmin_{w}E_{in}(w)+(\\lambda/N)W^{T}W$$\n",
    "### 這時候 $$W_{Reg} \\leftarrow (X^{T}X+\\lambda I)^{-1}Z^{T}y$$\n",
    "### 另外，當我們在訓練data的時候，因為可能會有overfitting的發生，因此一昧的降低$E_{in}$並不能真正的達到預測的效果，但我們也不能直接將要預測的data，也就是test data拿來訓練，因為這樣一來，你的模型裡就會隱含有test data的資訊，而test data 也不再是一個“乾淨”的data。因此，我們習慣在training samples裡面，分出一小部分當作validation samples，將一部份的samples留著當作驗證的資料，而不納入訓練之中，並同時將$E_{in}$和$E_{val}$都盡可能地降低，這樣一來，在test samples上的表現，通常也會比較好。\n",
    "\n",
    "### 我們這邊一樣實際使用 Regularized Ridger regression 在data上："
   ]
  },
  {
   "cell_type": "code",
   "execution_count": 1,
   "metadata": {},
   "outputs": [
    {
     "data": {
      "image/png": "[encoded data removed]",
      "text/plain": [
       "<Figure size 432x288 with 1 Axes>"
      ]
     },
     "metadata": {
      "needs_background": "light"
     },
     "output_type": "display_data"
    }
   ],
   "source": [
    "import matplotlib.pyplot as plt\n",
    "import numpy as np\n",
    "from numpy.linalg import inv\n",
    "\n",
    "w_ = np.linspace(-10,2,13)\n",
    "\n",
    "log_lamd = [-10,-9,-8,-7,-6,-5,-4,-3,-2,-1,0,1,2]\n",
    "X_train = np.genfromtxt(\"/Users/huangyuchen/Desktop/ML_NTU/hw4_train.dat.txt\")\n",
    "X_test = np.genfromtxt(\"/Users/huangyuchen/Desktop/ML_NTU/hw4_test.dat.txt\")\n",
    "y_train = np.reshape(X_train[:,-1],(-1,1))\n",
    "y_test = np.reshape(X_test[:,-1],(-1,1))\n",
    "## Adding bias terms on both X_train and X_test\n",
    "X_train = np.insert(X_train,0,1,1)\n",
    "X_test = np.insert(X_test,0,1,1)\n",
    "\n",
    "\n",
    "def Ridge_reg(X,y,lamb):\n",
    "    m,n = X.shape\n",
    "    WLin = (inv((X.T).dot(X)+lamb*np.eye(n)).dot(X.T)).dot(y)\n",
    "    return WLin\n",
    "\n",
    "ytrval = []\n",
    "yteval = []\n",
    "for i in log_lamd:\n",
    "    w = Ridge_reg(X_train[:,:-1],y_train,10**i)\n",
    "    resultr = np.mean(np.sign(X_train[:,:-1].dot(w))!= y_train)\n",
    "    resulte = np.mean(np.sign(X_test[:,:-1].dot(w))!= y_test)\n",
    "    ytrval.append(resultr)\n",
    "    yteval.append(resulte)\n",
    "    \n",
    "fig = plt.figure()\n",
    "ax = plt.axes()\n",
    "ax.scatter(w_, ytrval)\n",
    "ax.scatter(w_, yteval)\n",
    "ax.legend(['E_train','E_test'])\n",
    "plt.title('Error vs $\\lambda$')\n",
    "plt.ylabel(\"$Error$ \")\n",
    "plt.xlabel(\"$log(\\lambda)$\")\n",
    "plt.show()"
   ]
  },
  {
   "cell_type": "markdown",
   "metadata": {},
   "source": [
    "### 我們將Error對$log(\\lambda)$作圖，發現當$log(\\lambda)$很小的時候，$E_{in}$和$E_{out}$都相當低。因為當$log(\\lambda)$很小時，$E_{aug}$就會比較著重在將$E_{in}(w)$做得越小越好，這時候得到的結果應該會和沒有加上regularized term的結果相近。但適當$log(\\lambda)$變大時，$E_{aug}$就會著重在將$W^{T}W$做得越小越好。所以藉由調整$\\lambda$，這其實是一個 trade-off between Error and Regularized。"
   ]
  },
  {
   "cell_type": "code",
   "execution_count": 20,
   "metadata": {},
   "outputs": [
    {
     "data": {
      "image/png": "[encoded data removed]",
      "text/plain": [
       "<Figure size 432x288 with 1 Axes>"
      ]
     },
     "metadata": {
      "needs_background": "light"
     },
     "output_type": "display_data"
    }
   ],
   "source": [
    "yteval = []\n",
    "yval = []\n",
    "for i in log_lamd:\n",
    "    resultv = 0\n",
    "    bot = 0\n",
    "    upp = 40 \n",
    "    for l in range(4):\n",
    "        \n",
    "        X = np.delete(X_train[:,:-1],np.s_[bot:upp],axis = 0)\n",
    "        y = np.reshape(np.delete(X_train[:,-1],np.s_[bot:upp],axis = 0),(-1,1))\n",
    "        w = Ridge_reg(X,y,10**i)      \n",
    "        y_val = np.reshape(X_train[bot:upp,-1],(-1,1))\n",
    "        resultv += np.mean(np.sign(X_train[bot:upp,:-1].dot(w))!= y_val)\n",
    "        bot = bot + 40\n",
    "        upp = upp + 40\n",
    "        \n",
    "    yval.append(resultv/5)   \n",
    "    resulte = np.mean(np.sign(X_test[:,:-1].dot(w))!= y_test)\n",
    "    yteval.append(resulte)\n",
    "    \n",
    "fig = plt.figure()\n",
    "ax = plt.axes()\n",
    "ax.scatter(w_, yteval)\n",
    "ax.scatter(w_, yval)\n",
    "ax.legend(['E_test','E_val'])\n",
    "plt.title('Error vs $\\lambda$')\n",
    "plt.ylabel(\"$Error$ \")\n",
    "plt.xlabel(\"$log(\\lambda)$\")\n",
    "plt.show()"
   ]
  },
  {
   "cell_type": "markdown",
   "metadata": {},
   "source": [
    "### 由上圖可以看到，Validation samples某種程度上可以代表$E_{out}$隨著$log(\\lambda)$的分佈，再者，因為$E_{val}$是一組乾淨的data set，所以如果訓練data的時候有出現overfitting，我們可以直接從Validation samples看出來。另外，我們是將Training set分成五份，其中一份當作Validation set，剩下四份拿去訓練，為了要避免選取data造成的誤差，我們將五份Training set各自當成validation set並將Error_val除以五，得到平均的$E_{val}$。"
   ]
  }
 ],
 "metadata": {
  "kernelspec": {
   "display_name": "Python 3",
   "language": "python",
   "name": "python3"
  },
  "language_info": {
   "codemirror_mode": {
    "name": "ipython",
    "version": 3
   },
   "file_extension": ".py",
   "mimetype": "text/x-python",
   "name": "python",
   "nbconvert_exporter": "python",
   "pygments_lexer": "ipython3",
   "version": "3.7.6"
  }
 },
 "nbformat": 4,
 "nbformat_minor": 4
}
