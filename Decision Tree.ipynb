{
 "cells": [
  {
   "cell_type": "markdown",
   "metadata": {},
   "source": [
    "# Decision Tree Algorithms"
   ]
  },
  {
   "cell_type": "markdown",
   "metadata": {},
   "source": [
    "這次我要練習的是Decision Tree algoritms，我們這邊會試著應用的是 basic Classification and Regression Tree(C&RT) Algorithms：\n"
   ]
  },
  {
   "cell_type": "markdown",
   "metadata": {},
   "source": [
    "Func. Decision Tree (data D = $\\{x_{n},y_{n}\\}_{n=1}^{N}$) :\n",
    "\n",
    "If termination criteria met :\n",
    "\n",
    "  \n",
    "  ###  return $g_{t}(x)$\n",
    " \n",
    "else : \n",
    "\n",
    "  ### split D to 2 parts $D_{2} = \\{(x_{n},y_{n}): b(x_{n})=c\\}$\n",
    "  \n",
    "### b(x) = $argmin_{h(x)} \\Sigma_{c=1}^{2}|D_{c} with \\  h|*impurity(D_{c} with \\  h)$\n",
    "\n",
    "\n",
    "### Impurity function : Gini index \n",
    "\n",
    "$$1 - \\Sigma_{k=1}^{K}(\\frac{ \\Sigma_{n=1}^{N} \\ \\ [y_{n} =k]}{N})$$\n",
    "\n",
    "Termination Criteria :\n",
    "\n",
    "* all $y_{n}$ the same : impurity = 0 $\\rightarrow g_{t}(x) = y_{n}$\n",
    "\n",
    "* all $x_{n}$ the same : no decisiont stumps."
   ]
  },
  {
   "cell_type": "markdown",
   "metadata": {},
   "source": [
    "因為我們每次在砍樹的時候都將data set 一分為二，所以是一個Binary Decision Tree。每一次在選擇要砍哪裡的時候，我們都選擇impurity最低的點，這樣讓砍完之後的樹枝的純度都會最高。如果砍到最後所有的$y_{n}$都一樣，我們就會停止再往下砍，並且讓$g_{t} = y_{n}$，如果所有的$X_{n}$都相同，那我們也會因為沒有下刀的地方而停止往下砍。"
   ]
  },
  {
   "cell_type": "code",
   "execution_count": 1,
   "metadata": {},
   "outputs": [
    {
     "data": {
      "text/plain": [
       "((100, 3), (1000, 3))"
      ]
     },
     "execution_count": 1,
     "metadata": {},
     "output_type": "execute_result"
    }
   ],
   "source": [
    "import numpy as np\n",
    "import sys\n",
    "from matplotlib import pyplot as plt\n",
    "\n",
    "X_train = np.genfromtxt(\"/Users/huangyuchen/Desktop/ML_NTU/hw3_dectree_train.dat.txt\")\n",
    "X_test = np.genfromtxt(\"/Users/huangyuchen/Desktop/ML_NTU/hw3_dectree_test.dat.txt\")\n",
    "X = X_train[:,:2]\n",
    "y = X_train[:,2]\n",
    "X_te = X_test[:,:2]\n",
    "y_te = X_test[:,2]\n",
    "\n",
    "X_train.shape,X_test.shape"
   ]
  },
  {
   "cell_type": "markdown",
   "metadata": {},
   "source": [
    "### 先偷看一下data。"
   ]
  },
  {
   "cell_type": "code",
   "execution_count": 2,
   "metadata": {},
   "outputs": [
    {
     "data": {
      "text/plain": [
       "<matplotlib.legend.Legend at 0x11f47fc90>"
      ]
     },
     "execution_count": 2,
     "metadata": {},
     "output_type": "execute_result"
    },
    {
     "data": {
      "image/png": "[encoded data removed]",
      "text/plain": [
       "<Figure size 432x288 with 1 Axes>"
      ]
     },
     "metadata": {
      "needs_background": "light"
     },
     "output_type": "display_data"
    }
   ],
   "source": [
    "plt.scatter(X_train[X_train[:,-1] == 1][:, 0], X_train[X_train[:,-1] == 1][:, 1], s = 5, label='1')\n",
    "plt.scatter(X_train[X_train[:,-1] ==-1][:, 0], X_train[X_train[:,-1] ==-1][:, 1], s = 5, label='-1')\n",
    "plt.legend(['1','-1'])"
   ]
  },
  {
   "cell_type": "markdown",
   "metadata": {},
   "source": [
    "我們先將Gini index算出來，因為在選擇branch的時候需要用到impurity func.，而impurity func.會用到Gini index，當然也有其他的方式可以當作impurity 的權重，例如回歸誤差或是分類誤差等等。"
   ]
  },
  {
   "cell_type": "code",
   "execution_count": 3,
   "metadata": {},
   "outputs": [],
   "source": [
    "def ginindex(y):\n",
    "    ## 如果不純度=0\n",
    "    if len(y) == 0:\n",
    "        return 0\n",
    "    ## y只有1&-1兩種\n",
    "    else:\n",
    "        gin = 1-(1/(len(y)**2))*((np.sum([y==1]))**2+(np.sum([y==-1]))**2)\n",
    "        return gin\n",
    "    \n",
    "def impurity(y1,y2):\n",
    "    ## 因為下刀之後是一分為二，所以兩個區塊的impurity都要計算，同時也要將不同區塊的大小納入考慮\n",
    "        return len(y1)*ginindex(y1)+len(y2)*ginindex(y2)"
   ]
  },
  {
   "cell_type": "markdown",
   "metadata": {},
   "source": [
    "因為我們這裡砍樹的方式是使用Decision stump，所以一樣要產生一組 Theta，方法跟我們做desicion stump的時候一樣。"
   ]
  },
  {
   "cell_type": "code",
   "execution_count": 4,
   "metadata": {},
   "outputs": [],
   "source": [
    "def genertheta(x):\n",
    "    TrainX = sorted(x)\n",
    "    Second = np.append(TrainX[1:],(TrainX[-1]))\n",
    "    Theta = np.insert((TrainX+Second)/2,0,TrainX[0]-0.1,0)\n",
    "    Theta[-1] = TrainX[-1] + 0.1\n",
    "    return Theta"
   ]
  },
  {
   "cell_type": "code",
   "execution_count": 5,
   "metadata": {},
   "outputs": [],
   "source": [
    "def decision_stump(X,y):\n",
    "    m,n = X.shape\n",
    "    imp = sys.maxsize\n",
    "    t = 0 \n",
    "    D = 0\n",
    "    ## scan through every dimension of X\n",
    "    for i in range(n):\n",
    "        theta = genertheta(X[:,i])\n",
    "        ## scan through every possible point of Theta\n",
    "        for thet in theta:\n",
    "            y1 = y[X[:,i]< thet]\n",
    "            y2 = y[X[:,i]>= thet]\n",
    "            ## update when smaller Ginin index appears.\n",
    "            if impurity(y1,y2) < imp:\n",
    "                imp = impurity(y1,y2)\n",
    "                D = i\n",
    "                t = thet\n",
    "    ## return theta,dimension,and Gini index w/ smallest Gini index  \n",
    "    return t,D,imp"
   ]
  },
  {
   "cell_type": "markdown",
   "metadata": {},
   "source": [
    "定義一個Binary tree讓我們可以儲存每一個branch。"
   ]
  },
  {
   "cell_type": "code",
   "execution_count": 6,
   "metadata": {},
   "outputs": [],
   "source": [
    "class Tree:\n",
    "    def __init__(self, theta,D,value = None):\n",
    "        self.theta = theta\n",
    "        self.D = D\n",
    "        ## 因為只有最後一層會需要儲存value，所以預設是None\n",
    "        self.value = value\n",
    "        self.left = None\n",
    "        self.right = None"
   ]
  },
  {
   "cell_type": "markdown",
   "metadata": {},
   "source": [
    "還要判斷何時要停止向下砍樹，也就是 X 和 y 都相同的時候。"
   ]
  },
  {
   "cell_type": "code",
   "execution_count": 7,
   "metadata": {},
   "outputs": [],
   "source": [
    "def stop(X,y):\n",
    "    n1 = np.sum(X!=X[0])\n",
    "    n2 = np.sum(y!=y[0])\n",
    "    return n1 == 0 or n2 == 0"
   ]
  },
  {
   "cell_type": "markdown",
   "metadata": {},
   "source": [
    "接下來我們開始砍樹，如果 terminal condition met，我們就回傳最後一個 Tree Node，裡面只有紀錄 Tree.value，也就是我們的 $g_{t}$，else: 將 X 一分為二，小於Theta 的就存到左樹，大於的到右樹，並在節點紀錄 Theta 和 D，方便我們在查詢時知道 x 應該要往哪裡跑。"
   ]
  },
  {
   "cell_type": "code",
   "execution_count": 8,
   "metadata": {},
   "outputs": [],
   "source": [
    "def growntree(X,y):\n",
    "    if stop(X,y):\n",
    "        return Tree(None,None,y[0])\n",
    "    else:\n",
    "        theta,D,imp = decision_stump(X,y)\n",
    "        #print(theta,D,imp)\n",
    "        X1 = X[X[:,D]<theta]\n",
    "        y1 = y[X[:,D]<theta]\n",
    "        X2 = X[X[:,D]>=theta]\n",
    "        y2 = y[X[:,D]>=theta]\n",
    "        tree = Tree(theta,D)\n",
    "        tree.left = growntree(X1,y1)\n",
    "        tree.right = growntree(X2,y2)\n",
    "        return tree"
   ]
  },
  {
   "cell_type": "markdown",
   "metadata": {},
   "source": [
    "我們使用 growntree 長完整棵樹之後，會儲存所有的節點，由節點可以幫助我們判斷 x 應該要怎麼走，接著我們在定義一個 scan func.來讓所有 x scan through 所有的節點，來幫助我們得到 x 預測的值。這邊一樣用 recursion 來完成。"
   ]
  },
  {
   "cell_type": "code",
   "execution_count": 9,
   "metadata": {},
   "outputs": [],
   "source": [
    "def scan(tree, x):\n",
    "    if tree.value != None:\n",
    "        return tree.value\n",
    "    if x[tree.D] < tree.theta:\n",
    "        return scan(tree.left,x)\n",
    "    else:\n",
    "        return scan(tree.right,x)"
   ]
  },
  {
   "cell_type": "markdown",
   "metadata": {},
   "source": [
    "把所有的 x 都丟進去一個個找出他對應的 $g_{t}$。"
   ]
  },
  {
   "cell_type": "code",
   "execution_count": 10,
   "metadata": {},
   "outputs": [],
   "source": [
    "def error(tree, X, y):\n",
    "    ypred = [scan(tree, x) for x in X]\n",
    "    return np.mean(ypred!=y)"
   ]
  },
  {
   "cell_type": "code",
   "execution_count": 11,
   "metadata": {},
   "outputs": [
    {
     "name": "stdout",
     "output_type": "stream",
     "text": [
      "Ein =  0.0\n"
     ]
    }
   ],
   "source": [
    "tree = growntree(X,y)\n",
    "print(\"Ein = \",error(tree,X,y))"
   ]
  },
  {
   "cell_type": "code",
   "execution_count": 12,
   "metadata": {},
   "outputs": [
    {
     "name": "stdout",
     "output_type": "stream",
     "text": [
      "Eout = 0.126\n"
     ]
    }
   ],
   "source": [
    "print(\"Eout =\",error(tree,X_te,y_te))"
   ]
  },
  {
   "cell_type": "markdown",
   "metadata": {},
   "source": [
    "Decision Tree 有一個問題，就是不管怎麼樣，一定可以完全砍完(最差就是一個點一個分支)，想當然就會有很大的 overfitting 的問題，我們如果要解決這個問題，砍樹是其中一個選擇，限制 Decision Tree 分支的數量，容忍一定程度的誤差，就可以有效的限制 overfitting 產生。"
   ]
  }
 ],
 "metadata": {
  "kernelspec": {
   "display_name": "Python 3",
   "language": "python",
   "name": "python3"
  },
  "language_info": {
   "codemirror_mode": {
    "name": "ipython",
    "version": 3
   },
   "file_extension": ".py",
   "mimetype": "text/x-python",
   "name": "python",
   "nbconvert_exporter": "python",
   "pygments_lexer": "ipython3",
   "version": "3.7.6"
  }
 },
 "nbformat": 4,
 "nbformat_minor": 4
}
